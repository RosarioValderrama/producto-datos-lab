{
 "cells": [
  {
   "cell_type": "code",
   "execution_count": null,
   "id": "a4c07567-8ed3-406d-92ec-959cb98e629f",
   "metadata": {},
   "outputs": [],
   "source": []
  },
  {
   "cell_type": "code",
   "execution_count": 2,
   "id": "70b39ce8-5f4c-4e3c-947d-05905cf47893",
   "metadata": {},
   "outputs": [
    {
     "name": "stdout",
     "output_type": "stream",
     "text": [
      "✅ Guardados:\n",
      " - app/data/titanic_test_base.csv   (262, 8)\n",
      " - app/data/titanic_test_future.csv (300, 8)\n"
     ]
    }
   ],
   "source": [
    "import os\n",
    "import pandas as pd\n",
    "from sklearn.datasets import fetch_openml\n",
    "from sklearn.model_selection import train_test_split\n",
    "\n",
    "# 1) Cargar dataset crudo (mismas columnas que usa tu Pipeline)\n",
    "X_titanic, y_titanic = fetch_openml(\"titanic\", version=1, as_frame=True, return_X_y=True)\n",
    "\n",
    "features = ['pclass', 'sex', 'age', 'sibsp', 'parch', 'fare', 'embarked']\n",
    "y_titanic = y_titanic.astype(int)  # aseguramos 0/1\n",
    "\n",
    "# 2) Hacer el split igual que en el 00 (mismo random_state y stratify)\n",
    "X_train, X_test, y_train, y_test = train_test_split(\n",
    "    X_titanic[features], y_titanic,\n",
    "    test_size=0.2, random_state=42, stratify=y_titanic\n",
    ")\n",
    "\n",
    "# 3) Crear carpeta de salida\n",
    "os.makedirs(\"app/data\", exist_ok=True)\n",
    "\n",
    "# 4) CSV de test \"base\"\n",
    "test_base = X_test.copy()\n",
    "test_base[\"survived\"] = y_test.values\n",
    "test_base.to_csv(\"app/data/titanic_test_base.csv\", index=False)\n",
    "\n",
    "# 5) CSV de test \"futuro\" (ejemplo: solo 3ª clase para cambiar la distribución)\n",
    "mask_pclass3 = (X_titanic[\"pclass\"] == 3)\n",
    "test_future = X_titanic.loc[mask_pclass3, features].copy()\n",
    "test_future[\"survived\"] = y_titanic.loc[mask_pclass3].values\n",
    "\n",
    "# Si queda muy grande, samplea\n",
    "test_future = test_future.sample(n=min(300, len(test_future)), random_state=123)\n",
    "test_future.to_csv(\"app/data/titanic_test_future.csv\", index=False)\n",
    "\n",
    "print(\"✅ Guardados:\")\n",
    "print(\" - app/data/titanic_test_base.csv  \", test_base.shape)\n",
    "print(\" - app/data/titanic_test_future.csv\", test_future.shape)\n"
   ]
  },
  {
   "cell_type": "code",
   "execution_count": null,
   "id": "8ec9680e-5f19-4482-a7c6-cdcd99cf5469",
   "metadata": {},
   "outputs": [],
   "source": []
  },
  {
   "cell_type": "code",
   "execution_count": null,
   "id": "f50a42a8-c20a-4900-a0e3-d4aa18223923",
   "metadata": {},
   "outputs": [],
   "source": []
  },
  {
   "cell_type": "code",
   "execution_count": null,
   "id": "53833912-cf2c-4ee4-b44e-ba63d3c14291",
   "metadata": {},
   "outputs": [],
   "source": []
  },
  {
   "cell_type": "code",
   "execution_count": null,
   "id": "0eb70334-c2ca-44ce-ba76-1f236554dc2e",
   "metadata": {},
   "outputs": [],
   "source": []
  },
  {
   "cell_type": "code",
   "execution_count": null,
   "id": "69687f02-4dfb-408b-a5f7-a60d4c79d518",
   "metadata": {},
   "outputs": [],
   "source": []
  }
 ],
 "metadata": {
  "kernelspec": {
   "display_name": "Python (producto-datos-lab)",
   "language": "python",
   "name": "producto-datos-lab"
  },
  "language_info": {
   "codemirror_mode": {
    "name": "ipython",
    "version": 3
   },
   "file_extension": ".py",
   "mimetype": "text/x-python",
   "name": "python",
   "nbconvert_exporter": "python",
   "pygments_lexer": "ipython3",
   "version": "3.11.13"
  }
 },
 "nbformat": 4,
 "nbformat_minor": 5
}
