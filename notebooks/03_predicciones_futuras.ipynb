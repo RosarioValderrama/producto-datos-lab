{
 "cells": [
  {
   "cell_type": "markdown",
   "id": "55a51ada-6217-4657-a974-644c35e4d774",
   "metadata": {},
   "source": [
    "### Generación de datasets de prueba para CI (base y “futuro”)\n",
    "\n",
    "**Objetivo.** Crear dos CSV que usará el CI (pytest) para evaluar al modelo:\n",
    "- `app/data/titanic_test_base.csv` → cohorte “estable”.\n",
    "- `app/data/titanic_test_future.csv` → cohorte con **cambio de distribución** (drift).\n",
    "\n",
    "**Qué hace este bloque:**\n",
    "1. **Carga el dataset** *titanic* desde OpenML y define las columnas de entrada (`features`) y la etiqueta (`survived` como 0/1).\n",
    "2. **Repite el split** de entrenamiento (mismo `random_state` y `stratify`) para obtener un `X_test` comparable con el del notebook 00.\n",
    "3. **Guarda** `titanic_test_base.csv` uniendo `X_test` + `survived`.\n",
    "4. **Construye el set “futuro”** forzando un sesgo (ejemplo: solo **3ª clase** `pclass==3`) para simular drift.\n",
    "   - Si queda muy grande, hace un **sample** hasta 300 filas (con `random_state` fijo).\n",
    "5. **Guarda** `titanic_test_future.csv` con las mismas columnas + `survived`.\n",
    "6. Muestra en pantalla las **rutas y shapes** finales de ambos CSV.\n",
    "\n",
    "**Cómo se usa en CI.**\n",
    "Los tests en `app/tests/` leen estas rutas y calculan F1:\n",
    "- Base → debe superar el umbral.\n",
    "- Futuro → puede bajar (sirve como señal de drift).\n",
    "\n",
    "> Si se quiere simular **otro tipo de drift**, cambia el filtro del set futuro (por ejemplo, solo `sex==\"male\"`, alterar rangos de `age`, etc.) manteniendo el esquema de columnas.\n"
   ]
  },
  {
   "cell_type": "code",
   "execution_count": 2,
   "id": "70b39ce8-5f4c-4e3c-947d-05905cf47893",
   "metadata": {},
   "outputs": [
    {
     "name": "stdout",
     "output_type": "stream",
     "text": [
      "✅ Guardados:\n",
      " - app/data/titanic_test_base.csv   (262, 8)\n",
      " - app/data/titanic_test_future.csv (300, 8)\n"
     ]
    }
   ],
   "source": [
    "import os\n",
    "import pandas as pd\n",
    "from sklearn.datasets import fetch_openml\n",
    "from sklearn.model_selection import train_test_split\n",
    "\n",
    "# 1) Cargar dataset crudo (mismas columnas que usa tu Pipeline)\n",
    "X_titanic, y_titanic = fetch_openml(\"titanic\", version=1, as_frame=True, return_X_y=True)\n",
    "\n",
    "features = ['pclass', 'sex', 'age', 'sibsp', 'parch', 'fare', 'embarked']\n",
    "y_titanic = y_titanic.astype(int)  # aseguramos 0/1\n",
    "\n",
    "# 2) Hacer el split igual que en el 00 (mismo random_state y stratify)\n",
    "X_train, X_test, y_train, y_test = train_test_split(\n",
    "    X_titanic[features], y_titanic,\n",
    "    test_size=0.2, random_state=42, stratify=y_titanic\n",
    ")\n",
    "\n",
    "# 3) Crear carpeta de salida\n",
    "os.makedirs(\"app/data\", exist_ok=True)\n",
    "\n",
    "# 4) CSV de test \"base\"\n",
    "test_base = X_test.copy()\n",
    "test_base[\"survived\"] = y_test.values\n",
    "test_base.to_csv(\"app/data/titanic_test_base.csv\", index=False)\n",
    "\n",
    "# 5) CSV de test \"futuro\" (ejemplo: solo 3ª clase para cambiar la distribución)\n",
    "mask_pclass3 = (X_titanic[\"pclass\"] == 3)\n",
    "test_future = X_titanic.loc[mask_pclass3, features].copy()\n",
    "test_future[\"survived\"] = y_titanic.loc[mask_pclass3].values\n",
    "\n",
    "# Si queda muy grande, samplea\n",
    "test_future = test_future.sample(n=min(300, len(test_future)), random_state=123)\n",
    "test_future.to_csv(\"app/data/titanic_test_future.csv\", index=False)\n",
    "\n",
    "print(\"✅ Guardados:\")\n",
    "print(\" - app/data/titanic_test_base.csv  \", test_base.shape)\n",
    "print(\" - app/data/titanic_test_future.csv\", test_future.shape)\n"
   ]
  }
 ],
 "metadata": {
  "kernelspec": {
   "display_name": "Python (producto-datos-lab)",
   "language": "python",
   "name": "producto-datos-lab"
  },
  "language_info": {
   "codemirror_mode": {
    "name": "ipython",
    "version": 3
   },
   "file_extension": ".py",
   "mimetype": "text/x-python",
   "name": "python",
   "nbconvert_exporter": "python",
   "pygments_lexer": "ipython3",
   "version": "3.11.13"
  }
 },
 "nbformat": 4,
 "nbformat_minor": 5
}
