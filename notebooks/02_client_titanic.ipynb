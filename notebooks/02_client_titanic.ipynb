{
 "cells": [
  {
   "cell_type": "markdown",
   "id": "4b24ab1e-884f-4175-a288-f30daf2f3ec8",
   "metadata": {},
   "source": [
    "# Laboratorio: Consumiendo un modelo de Machine Learning\n",
    "\n",
    "**Antes de empezar debemos cerciorarnos que el servidor de la parte anterior esté aún corriendo.**\n",
    "\n",
    "En este notebook construiremos un cliente muy simple usando la biblioteca `requests` para interactuar con el servidor."
   ]
  },
  {
   "cell_type": "code",
   "execution_count": 2,
   "id": "06fdcfe2-9684-4166-b80e-0014f28a585e",
   "metadata": {},
   "outputs": [
    {
     "name": "stdout",
     "output_type": "stream",
     "text": [
      "URL: http://127.0.0.1:8000/predict?confidence=0.55\n",
      "\n",
      "--- Helene ---\n"
     ]
    },
    {
     "ename": "SystemExit",
     "evalue": "Error de conexión: HTTPConnectionPool(host='127.0.0.1', port=8000): Max retries exceeded with url: /predict?confidence=0.55 (Caused by NewConnectionError('<urllib3.connection.HTTPConnection object at 0x000001ADB3676850>: Failed to establish a new connection: [WinError 10061] No se puede establecer una conexión ya que el equipo de destino denegó expresamente dicha conexión'))",
     "output_type": "error",
     "traceback": [
      "An exception has occurred, use %tb to see the full traceback.\n",
      "\u001b[31mSystemExit\u001b[39m\u001b[31m:\u001b[39m Error de conexión: HTTPConnectionPool(host='127.0.0.1', port=8000): Max retries exceeded with url: /predict?confidence=0.55 (Caused by NewConnectionError('<urllib3.connection.HTTPConnection object at 0x000001ADB3676850>: Failed to establish a new connection: [WinError 10061] No se puede establecer una conexión ya que el equipo de destino denegó expresamente dicha conexión'))\n"
     ]
    },
    {
     "name": "stderr",
     "output_type": "stream",
     "text": [
      "C:\\Users\\raval\\anaconda3\\envs\\producto-datos-lab\\Lib\\site-packages\\IPython\\core\\interactiveshell.py:3707: UserWarning: To exit: use 'exit', 'quit', or Ctrl-D.\n",
      "  warn(\"To exit: use 'exit', 'quit', or Ctrl-D.\", stacklevel=1)\n"
     ]
    }
   ],
   "source": [
    "# === 02_client_titanic.ipynb ===\n",
    "# Cliente para consumir la API del modelo de supervivencia del Titanic\n",
    "\n",
    "import requests\n",
    "import json\n",
    "import pandas as pd\n",
    "\n",
    "# 1) Configuración básica\n",
    "BASE_URL = \"http://127.0.0.1:8000\"   # asegúrate de tener corriendo 01_server_titanic\n",
    "ENDPOINT  = \"/predict\"\n",
    "CONFIDENCE = 0.55                      # opcional: umbral; pon None para usar el del servidor\n",
    "\n",
    "def build_url(base=BASE_URL, endpoint=ENDPOINT, confidence=CONFIDENCE):\n",
    "    \"\"\"Construye la URL con o sin el parámetro confidence.\"\"\"\n",
    "    url = base.rstrip(\"/\") + endpoint\n",
    "    if confidence is not None:\n",
    "        # requests también permite pasar params=..., pero así ves la URL “final”\n",
    "        url = f\"{url}?confidence={confidence}\"\n",
    "    return url\n",
    "\n",
    "FULL_URL = build_url()\n",
    "print(\"URL:\", FULL_URL)\n",
    "\n",
    "# 2) Función genérica: enviar 1 pasajero y obtener respuesta\n",
    "def predict_passenger(passenger_dict, url=FULL_URL, verbose=True):\n",
    "    \"\"\"\n",
    "    passenger_dict: dict con las columnas crudas:\n",
    "      pclass, sex, age, sibsp, parch, fare, embarked\n",
    "    \"\"\"\n",
    "    try:\n",
    "        resp = requests.post(url, json=passenger_dict, timeout=10)\n",
    "    except requests.exceptions.RequestException as e:\n",
    "        raise SystemExit(f\"Error de conexión: {e}\")\n",
    "\n",
    "    if verbose:\n",
    "        print(\"Status:\", resp.status_code)\n",
    "\n",
    "    if resp.status_code != 200:\n",
    "        # Deja el detalle del servidor por si hay validaciones que no pasan\n",
    "        raise ValueError(f\"Error {resp.status_code}: {resp.text}\")\n",
    "\n",
    "    data = resp.json()\n",
    "    # Espera: {\"threshold_used\":..., \"prob_survive\":..., \"pred_class\":..., \"pred_label\":...}\n",
    "    if verbose:\n",
    "        print(f\"Umbral usado: {data['threshold_used']}\")\n",
    "        print(f\"Prob. sobrevivir: {data['prob_survive']:.3f}\")\n",
    "        print(f\"Predicción: {data['pred_class']} → {data['pred_label']}\")\n",
    "    return data\n",
    "\n",
    "# 3) Ejemplos (ajusta según quieras)\n",
    "helene = {\n",
    "    \"pclass\": 1, \"sex\": \"female\", \"age\": 22, \"sibsp\": 0, \"parch\": 1,\n",
    "    \"fare\": 80.0, \"embarked\": \"C\"\n",
    "}\n",
    "giles = {\n",
    "    \"pclass\": 2, \"sex\": \"male\", \"age\": 21, \"sibsp\": 0, \"parch\": 0,\n",
    "    \"fare\": 15.0, \"embarked\": \"S\"\n",
    "}\n",
    "\n",
    "print(\"\\n--- Helene ---\")\n",
    "pred_h = predict_passenger(helene)\n",
    "\n",
    "print(\"\\n--- Giles ---\")\n",
    "pred_g = predict_passenger(giles)\n",
    "\n",
    "# 4) Evaluación por lote (lista de pasajeros → DataFrame con resultados)\n",
    "def batch_predict(passengers, url=FULL_URL):\n",
    "    rows = []\n",
    "    for p in passengers:\n",
    "        data = predict_passenger(p, url=url, verbose=False)\n",
    "        rows.append({\n",
    "            **p,\n",
    "            \"threshold_used\": data[\"threshold_used\"],\n",
    "            \"prob_survive\":  data[\"prob_survive\"],\n",
    "            \"pred_class\":    data[\"pred_class\"],\n",
    "            \"pred_label\":    data[\"pred_label\"],\n",
    "        })\n",
    "    return pd.DataFrame(rows)\n",
    "\n",
    "print(\"\\n--- Batch ---\")\n",
    "df_out = batch_predict([helene, giles])\n",
    "df_out\n"
   ]
  }
 ],
 "metadata": {
  "kernelspec": {
   "display_name": "Python (producto-datos-lab)",
   "language": "python",
   "name": "producto-datos-lab"
  },
  "language_info": {
   "codemirror_mode": {
    "name": "ipython",
    "version": 3
   },
   "file_extension": ".py",
   "mimetype": "text/x-python",
   "name": "python",
   "nbconvert_exporter": "python",
   "pygments_lexer": "ipython3",
   "version": "3.11.13"
  }
 },
 "nbformat": 4,
 "nbformat_minor": 5
}
